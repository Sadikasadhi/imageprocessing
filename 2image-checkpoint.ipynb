{
 "cells": [
  {
   "cell_type": "code",
   "execution_count": 9,
   "id": "ea5f9b42",
   "metadata": {},
   "outputs": [
    {
     "name": "stdout",
     "output_type": "stream",
     "text": [
      "Requirement already satisfied: imutils in c:\\users\\mca\\anaconda3\\lib\\site-packages (0.5.4)\n",
      "Note: you may need to restart the kernel to use updated packages.\n"
     ]
    }
   ],
   "source": [
    "pip install imutils"
   ]
  },
  {
   "cell_type": "code",
   "execution_count": null,
   "id": "bb426b93",
   "metadata": {},
   "outputs": [],
   "source": [
    "import cv2\n",
    "import imutils \n",
    "#get the images you want to compare.\n",
    "original = cv2.imread(\"imageA.jpg\")\n",
    "new = cv2.imread(\"imageB.jpg\")\n",
    "#resize the images to make them small in size. A bigger size image may take a significant time\n",
    "#more computing power and time\n",
    "original = imutils.resize(original, height = 600)\n",
    "new = imutils.resize(new, height = 600)\n",
    "#create a copy of original image so that we can store the\n",
    "#difference of 2 images in the same on\n",
    "diff = original.copy()\n",
    "cv2.absdiff(original, new, diff)\n",
    " "
   ]
  },
  {
   "cell_type": "code",
   "execution_count": null,
   "id": "cdcb4441",
   "metadata": {},
   "outputs": [],
   "source": [
    "# Importing the module\n",
    "import cv2\n",
    "import imutils \n",
    "\n",
    "# Choose image\n",
    "original = cv2.imread(\"imageA.jpg\")\n",
    "new = cv2.imread(\"imageB.jpg\")\n",
    "\n",
    "#original = imutils.resize(original, height = 600)\n",
    "#new = imutils.resize(new, height = 600)\n",
    "\n",
    "# Display image\n",
    "cv2.imshow(\"Original\",  original)\n",
    "cv2.imshow(\"new\",  new)\n",
    "\n",
    "cv2.waitKey(0)\n",
    "cv2.destroyAllWindows()\n"
   ]
  },
  {
   "cell_type": "code",
   "execution_count": 4,
   "id": "2752f593",
   "metadata": {},
   "outputs": [
    {
     "data": {
      "text/plain": [
       "array([[[29, 35, 11],\n",
       "        [29, 35, 11],\n",
       "        [29, 35, 11],\n",
       "        ...,\n",
       "        [25, 18,  1],\n",
       "        [24, 19,  0],\n",
       "        [24, 19,  0]],\n",
       "\n",
       "       [[28, 34, 10],\n",
       "        [29, 35, 11],\n",
       "        [29, 35, 11],\n",
       "        ...,\n",
       "        [25, 18,  1],\n",
       "        [23, 18,  1],\n",
       "        [24, 19,  0]],\n",
       "\n",
       "       [[28, 34, 10],\n",
       "        [28, 34, 10],\n",
       "        [28, 34, 10],\n",
       "        ...,\n",
       "        [23, 16,  3],\n",
       "        [22, 17,  2],\n",
       "        [22, 17,  2]],\n",
       "\n",
       "       ...,\n",
       "\n",
       "       [[20,  5, 15],\n",
       "        [22,  7, 13],\n",
       "        [22, 10, 11],\n",
       "        ...,\n",
       "        [30, 36, 12],\n",
       "        [30, 36, 12],\n",
       "        [31, 37, 13]],\n",
       "\n",
       "       [[23,  8, 12],\n",
       "        [24,  9, 11],\n",
       "        [25, 13,  8],\n",
       "        ...,\n",
       "        [29, 35, 11],\n",
       "        [29, 35, 11],\n",
       "        [30, 36, 12]],\n",
       "\n",
       "       [[23, 11, 10],\n",
       "        [25, 13,  8],\n",
       "        [27, 15,  6],\n",
       "        ...,\n",
       "        [29, 35, 11],\n",
       "        [29, 35, 11],\n",
       "        [29, 35, 11]]], dtype=uint8)"
      ]
     },
     "execution_count": 4,
     "metadata": {},
     "output_type": "execute_result"
    }
   ],
   "source": [
    "# Importing the module\n",
    "import cv2\n",
    "import imutils \n",
    "\n",
    "# Choose image\n",
    "original = cv2.imread(\"imageA.jpg\")\n",
    "new = cv2.imread(\"imageB.jpg\")\n",
    "\n",
    "#original = imutils.resize(original, height = 600)\n",
    "#new = imutils.resize(new, height = 600)\n",
    "\n",
    "# Display image\n",
    "diff = original.copy()\n",
    "cv2.absdiff(original, new, diff)\n",
    "\n"
   ]
  },
  {
   "cell_type": "code",
   "execution_count": null,
   "id": "57d78211",
   "metadata": {},
   "outputs": [],
   "source": []
  }
 ],
 "metadata": {
  "kernelspec": {
   "display_name": "Python 3",
   "language": "python",
   "name": "python3"
  },
  "language_info": {
   "codemirror_mode": {
    "name": "ipython",
    "version": 3
   },
   "file_extension": ".py",
   "mimetype": "text/x-python",
   "name": "python",
   "nbconvert_exporter": "python",
   "pygments_lexer": "ipython3",
   "version": "3.8.8"
  }
 },
 "nbformat": 4,
 "nbformat_minor": 5
}
