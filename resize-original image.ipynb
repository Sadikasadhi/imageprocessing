{
 "cells": [
  {
   "cell_type": "code",
   "execution_count": 1,
   "id": "44c1c99d",
   "metadata": {},
   "outputs": [
    {
     "name": "stdout",
     "output_type": "stream",
     "text": [
      "original image length width (204, 247, 3)\n",
      "Resized image length,width (160, 150, 3)\n"
     ]
    },
    {
     "data": {
      "text/plain": [
       "-1"
      ]
     },
     "execution_count": 1,
     "metadata": {},
     "output_type": "execute_result"
    }
   ],
   "source": [
    "import cv2\n",
    "img=cv2.imread('b1.jpg')\n",
    "print('original image length width',img.shape)\n",
    "cv2.imshow('original image',img)\n",
    "cv2.waitKey(0)\n",
    "\n",
    "imgresize=cv2.resize(img,(150,160))\n",
    "cv2.imshow('Resized image',imgresize)\n",
    "print('Resized image length,width',imgresize.shape)\n",
    "cv2.waitKey(0)"
   ]
  },
  {
   "cell_type": "code",
   "execution_count": null,
   "id": "5812fa9e",
   "metadata": {},
   "outputs": [],
   "source": []
  }
 ],
 "metadata": {
  "kernelspec": {
   "display_name": "Python 3 (ipykernel)",
   "language": "python",
   "name": "python3"
  },
  "language_info": {
   "codemirror_mode": {
    "name": "ipython",
    "version": 3
   },
   "file_extension": ".py",
   "mimetype": "text/x-python",
   "name": "python",
   "nbconvert_exporter": "python",
   "pygments_lexer": "ipython3",
   "version": "3.9.12"
  }
 },
 "nbformat": 4,
 "nbformat_minor": 5
}
