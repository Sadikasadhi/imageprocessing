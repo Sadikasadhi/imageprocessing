{
 "cells": [
  {
   "cell_type": "code",
   "execution_count": null,
   "id": "c9e449c3",
   "metadata": {},
   "outputs": [],
   "source": [
    "import cv2\n",
    "img=cv2.imread('flower4.jpg')\n",
    "cv2.imshow(\"RGB\",img)\n",
    "cv2.waitKey(0)\n",
    "\n",
    "img=cv2.imread('flower4.jpg',0)\n",
    "cv2.imshow(\"Gray\",img)\n",
    "cv2.waitKey(0)\n",
    "\n",
    "ret,bw_img=cv2.threshold(img,127,255,cv2.THRESH_BINARY)\n",
    "cv2.imshow(\"Binary\",bw_img)\n",
    "cv2.waitKey(0)\n",
    "cv2.destroyAllWindows()\n",
    "\n"
   ]
  },
  {
   "cell_type": "code",
   "execution_count": null,
   "id": "385cba4a",
   "metadata": {},
   "outputs": [],
   "source": []
  },
  {
   "cell_type": "code",
   "execution_count": null,
   "id": "89f082ba",
   "metadata": {},
   "outputs": [],
   "source": []
  }
 ],
 "metadata": {
  "kernelspec": {
   "display_name": "Python 3 (ipykernel)",
   "language": "python",
   "name": "python3"
  },
  "language_info": {
   "codemirror_mode": {
    "name": "ipython",
    "version": 3
   },
   "file_extension": ".py",
   "mimetype": "text/x-python",
   "name": "python",
   "nbconvert_exporter": "python",
   "pygments_lexer": "ipython3",
   "version": "3.9.12"
  }
 },
 "nbformat": 4,
 "nbformat_minor": 5
}
