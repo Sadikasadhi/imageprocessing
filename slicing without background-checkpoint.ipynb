{
 "cells": [
  {
   "cell_type": "code",
   "execution_count": null,
   "id": "dec310f3",
   "metadata": {},
   "outputs": [],
   "source": [
    "import cv2\n",
    "import numpy as np\n",
    "from matplotlib import pyplot as plt\n",
    "image=cv2.imread('b7.jpg',0)\n",
    "x,y=image.shape\n",
    "z=np.zeros((x,y))\n",
    "for i in range(0,x):\n",
    "    for j in range(0,y):\n",
    "        if(image[i][j]>50 and image[i][j]<150):\n",
    "            z[i][j]=255\n",
    "        else:\n",
    "            z[i][j]=0\n",
    "equ=np.hstack((image,z))\n",
    "plt.title('Graylevel slicing without background')\n",
    "plt.imshow(equ,'gray')\n",
    "plt.show()"
   ]
  }
 ],
 "metadata": {
  "kernelspec": {
   "display_name": "Python 3",
   "language": "python",
   "name": "python3"
  },
  "language_info": {
   "codemirror_mode": {
    "name": "ipython",
    "version": 3
   },
   "file_extension": ".py",
   "mimetype": "text/x-python",
   "name": "python",
   "nbconvert_exporter": "python",
   "pygments_lexer": "ipython3",
   "version": "3.8.8"
  }
 },
 "nbformat": 4,
 "nbformat_minor": 5
}
