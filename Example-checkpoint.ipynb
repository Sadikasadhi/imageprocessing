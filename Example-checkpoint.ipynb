{
 "cells": [
  {
   "cell_type": "code",
   "execution_count": 12,
   "id": "c26089ca",
   "metadata": {},
   "outputs": [
    {
     "name": "stdout",
     "output_type": "stream",
     "text": [
      "2 2 2 2 2 \n",
      "2 1 1 1 2 \n",
      "2 1 0 1 2 \n",
      "2 1 1 1 2 \n",
      "2 2 2 2 2 \n"
     ]
    }
   ],
   "source": [
    "from matplotlib import pyplot as plt\n",
    "import numpy as np\n",
    "def printPattern(n):\n",
    " \n",
    "    arraySize = n * 2 - 1;\n",
    "    result = [[0 for x in range(arraySize)]\n",
    "                 for y in range(arraySize)];\n",
    "         \n",
    "    # Fill the values\n",
    "    for i in range(arraySize):\n",
    "        for j in range(arraySize):\n",
    "            if(abs(i - (arraySize // 2)) >\n",
    "               abs(j - (arraySize // 2))):\n",
    "                result[i][j] = abs(i - (arraySize // 2)) ;\n",
    "            else:\n",
    "                result[i][j] = abs(j - (arraySize // 2));\n",
    "             \n",
    "    # Print the array\n",
    "    for i in range(arraySize):\n",
    "        for j in range(arraySize):\n",
    "            print(result[i][j], end = \" \");\n",
    "        print(\"\");\n",
    " \n",
    "# Driver Code\n",
    "n = 3;\n",
    " \n",
    "printPattern(n);\n"
   ]
  },
  {
   "cell_type": "code",
   "execution_count": 29,
   "id": "4c190ea9",
   "metadata": {},
   "outputs": [
    {
     "data": {
      "image/png": "[encoded data removed]",
      "text/plain": [
       "<Figure size 504x252 with 1 Axes>"
      ]
     },
     "metadata": {
      "needs_background": "light"
     },
     "output_type": "display_data"
    }
   ],
   "source": [
    "from matplotlib import pyplot as plt\n",
    "import numpy as np\n",
    "\n",
    "# Set the figure size\n",
    "plt.rcParams[\"figure.figsize\"] = [7.00, 3.50]\n",
    "plt.rcParams[\"figure.autolayout\"] = True\n",
    "\n",
    "# Random data points\n",
    "data = np.random.rand(4, 4)\n",
    "\n",
    "# Plot the data using imshow with gray colormap\n",
    "plt.imshow(data, cmap='gray')\n",
    "\n",
    "# Display the plot\n",
    "plt.show()"
   ]
  },
  {
   "cell_type": "code",
   "execution_count": 30,
   "id": "9cfc1e68",
   "metadata": {},
   "outputs": [
    {
     "data": {
      "image/png": "[encoded data removed]",
      "text/plain": [
       "<Figure size 504x252 with 1 Axes>"
      ]
     },
     "metadata": {
      "needs_background": "light"
     },
     "output_type": "display_data"
    }
   ],
   "source": [
    "import matplotlib.pyplot as plt\n",
    "       \n",
    "M =    ([2, 2, 2, 2, 2],  \n",
    "        [2, 1, 1, 1, 2],  \n",
    "        [2, 1, 0, 1, 2],  \n",
    "        [2, 1, 1, 1, 2],\n",
    "        [2, 2, 2, 2, 2])  \n",
    "plt.imshow(M)\n",
    "plt.show()"
   ]
  },
  {
   "cell_type": "code",
   "execution_count": 45,
   "id": "de918f57",
   "metadata": {},
   "outputs": [
    {
     "data": {
      "image/png": "[encoded data removed]",
      "text/plain": [
       "<Figure size 504x252 with 1 Axes>"
      ]
     },
     "metadata": {
      "needs_background": "light"
     },
     "output_type": "display_data"
    }
   ],
   "source": [
    "import numpy as np\n",
    "import matplotlib.pyplot as plt\n",
    "\n",
    "imgsize=(650,650)\n",
    "image = Image.new('RGB', imgsize)\n",
    "innerColor = [67,0,60]\n",
    "for y in range(imgsize[1]):\n",
    "    for x in range(imgsize[0]):\n",
    "        distanceToCenter =np.sqrt((x - imgsize[0]/2) ** 2 + (y - imgsize[1]/2) ** 2)\n",
    "        distanceToCenter = (distanceToCenter) / (np.sqrt(2) * imgsize[0]/2)\n",
    "        r = distanceToCenter + innerColor[0] * (1 - distanceToCenter)\n",
    "        g = distanceToCenter + innerColor[1] * (1 - distanceToCenter)\n",
    "        b = distanceToCenter + innerColor[2] * (1 - distanceToCenter)\n",
    "        image.putpixel((x, y), (int(r), int(g), int(b)))\n",
    "plt.imshow(image)\n",
    "plt.show()"
   ]
  },
  {
   "cell_type": "code",
   "execution_count": 52,
   "id": "b74ad112",
   "metadata": {},
   "outputs": [
    {
     "data": {
      "image/png": "[encoded data removed]",
      "text/plain": [
       "<Figure size 504x252 with 1 Axes>"
      ]
     },
     "metadata": {
      "needs_background": "light"
     },
     "output_type": "display_data"
    }
   ],
   "source": [
    "from PIL import Image\n",
    "import numpy as np\n",
    "import matplotlib.pyplot as plt\n",
    "w, h = 512, 512\n",
    "data = np.zeros((h, w, 3), dtype=np.uint8)\n",
    "data[0:100, 0:100] = [255, 0, 0]\n",
    "data[100:200, 100:200] = [255, 0, 255]\n",
    "data[200:300, 200:300] = [0, 255, 0]\n",
    "data[300:400, 300:400] = [255, 255, 0]\n",
    "data[400:500, 400:500] = [0, 255, 255]\n",
    "img = Image.fromarray(data, 'RGB')\n",
    "img.save('my.png')\n",
    "plt.imshow(img)\n",
    "plt.show()"
   ]
  },
  {
   "cell_type": "code",
   "execution_count": 53,
   "id": "04eda772",
   "metadata": {},
   "outputs": [
    {
     "data": {
      "text/plain": [
       "<matplotlib.image.AxesImage at 0x1ab94115220>"
      ]
     },
     "execution_count": 53,
     "metadata": {},
     "output_type": "execute_result"
    },
    {
     "data": {
      "image/png": "[encoded data removed]",
      "text/plain": [
       "<Figure size 504x252 with 1 Axes>"
      ]
     },
     "metadata": {
      "needs_background": "light"
     },
     "output_type": "display_data"
    }
   ],
   "source": [
    "from PIL import Image\n",
    "import numpy as np\n",
    "import matplotlib.pyplot as plt\n",
    "w, h = 512, 512\n",
    "data = np.zeros((h, w, 3), dtype=np.uint8)\n",
    "data[0:120, 0:512] = [255, 255, 255]\n",
    "data[120:256, 0:512] = [218, 218, 218]\n",
    "data[256:320, 0:512] = [0, 0,0]\n",
    "data[320:420, 0:512] = [218, 218,218]\n",
    "data[420:512, 0:512] = [255, 255,255]\n",
    "#red patch in upper left\n",
    "img = Image.fromarray(data, 'RGB')\n",
    "img.save('img8.jpg')\n",
    "img.show()\n",
    "plt.imshow(img)"
   ]
  },
  {
   "cell_type": "code",
   "execution_count": null,
   "id": "1f8cc8fe",
   "metadata": {},
   "outputs": [],
   "source": []
  }
 ],
 "metadata": {
  "kernelspec": {
   "display_name": "Python 3",
   "language": "python",
   "name": "python3"
  },
  "language_info": {
   "codemirror_mode": {
    "name": "ipython",
    "version": 3
   },
   "file_extension": ".py",
   "mimetype": "text/x-python",
   "name": "python",
   "nbconvert_exporter": "python",
   "pygments_lexer": "ipython3",
   "version": "3.8.8"
  }
 },
 "nbformat": 4,
 "nbformat_minor": 5
}
