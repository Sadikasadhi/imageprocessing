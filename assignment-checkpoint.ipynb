{
 "cells": [
  {
   "cell_type": "code",
   "execution_count": 2,
   "id": "b185bbe7",
   "metadata": {},
   "outputs": [
    {
     "name": "stdout",
     "output_type": "stream",
     "text": [
      "[71.50002816040542, 61.855798976933784, 73.55122386976659]\n"
     ]
    }
   ],
   "source": [
    "from PIL import Image, ImageStat\n",
    "\n",
    "im = Image.open('c5.jpg')\n",
    "stat = ImageStat.Stat(im)\n",
    "print(stat.stddev)"
   ]
  },
  {
   "cell_type": "code",
   "execution_count": 22,
   "id": "7d39f108",
   "metadata": {},
   "outputs": [
    {
     "data": {
      "text/plain": [
       "219"
      ]
     },
     "execution_count": 22,
     "metadata": {},
     "output_type": "execute_result"
    }
   ],
   "source": [
    "import cv2\n",
    "import numpy as np\n",
    "img=cv2.imread('ge.jpg')\n",
    "cv2.imshow('ge.jpg',img)\n",
    "cv2.waitKey(0)\n",
    "#max_channels=np.amax([np.amax(img[:,:,0]),np.amax(img[:,:,1]),np.amax(img[:,:,2])])\n",
    "#print(max_channels)\n",
    "np.max(img)"
   ]
  },
  {
   "cell_type": "code",
   "execution_count": 23,
   "id": "2d490002",
   "metadata": {},
   "outputs": [
    {
     "data": {
      "text/plain": [
       "0"
      ]
     },
     "execution_count": 23,
     "metadata": {},
     "output_type": "execute_result"
    }
   ],
   "source": [
    "import cv2\n",
    "import numpy as np\n",
    "img=cv2.imread('ge.jpg')\n",
    "cv2.imshow('ge.jpg',img)\n",
    "cv2.waitKey(0)\n",
    "#min_channels=np.amin([np.amin(img[:,:,0]),np.amin(img[:,:,1]),np.amin(img[:,:,2])])\n",
    "#print(min_channels)\n",
    "np.min(img)\n"
   ]
  },
  {
   "cell_type": "code",
   "execution_count": 6,
   "id": "58ec0ce6",
   "metadata": {},
   "outputs": [
    {
     "data": {
      "text/plain": [
       "139.16422469135802"
      ]
     },
     "execution_count": 6,
     "metadata": {},
     "output_type": "execute_result"
    }
   ],
   "source": [
    "import cv2\n",
    "import numpy as np\n",
    "img=cv2.imread('c5.jpg')\n",
    "cv2.imshow('c5.jpg',img)\n",
    "cv2.waitKey(0)\n",
    "np.average(img)"
   ]
  },
  {
   "cell_type": "code",
   "execution_count": 11,
   "id": "832b4e7e",
   "metadata": {},
   "outputs": [
    {
     "data": {
      "text/plain": [
       "82.39887881670933"
      ]
     },
     "execution_count": 11,
     "metadata": {},
     "output_type": "execute_result"
    }
   ],
   "source": [
    "import cv2\n",
    "import numpy as np\n",
    "img=cv2.imread('c5.jpg')\n",
    "cv2.imshow('c5.jpg',img)\n",
    "cv2.waitKey(0)\n",
    "np.std(img)"
   ]
  },
  {
   "cell_type": "code",
   "execution_count": 10,
   "id": "e017aceb",
   "metadata": {},
   "outputs": [
    {
     "data": {
      "text/plain": [
       "139.16422469135802"
      ]
     },
     "execution_count": 10,
     "metadata": {},
     "output_type": "execute_result"
    }
   ],
   "source": [
    "import cv2\n",
    "import numpy as np\n",
    "img=cv2.imread('c5.jpg')\n",
    "cv2.imshow('c5.jpg',img)\n",
    "cv2.waitKey(0)\n",
    "np.mean(img)"
   ]
  },
  {
   "cell_type": "code",
   "execution_count": 12,
   "id": "d1866b07",
   "metadata": {},
   "outputs": [
    {
     "data": {
      "text/plain": [
       "6789.575230250748"
      ]
     },
     "execution_count": 12,
     "metadata": {},
     "output_type": "execute_result"
    }
   ],
   "source": [
    "import cv2\n",
    "import numpy as np\n",
    "img=cv2.imread('c5.jpg')\n",
    "cv2.imshow('c5.jpg',img)\n",
    "cv2.waitKey(0)\n",
    "np.var(img)"
   ]
  },
  {
   "cell_type": "code",
   "execution_count": null,
   "id": "929d8c94",
   "metadata": {},
   "outputs": [],
   "source": [
    "from PIL import Image, ImageStat\n",
    "\n",
    "im = Image.open('c5.jpg')\n",
    "stat = ImageStat.Stat(im)\n",
    "print(stat.stddev)"
   ]
  }
 ],
 "metadata": {
  "kernelspec": {
   "display_name": "Python 3",
   "language": "python",
   "name": "python3"
  },
  "language_info": {
   "codemirror_mode": {
    "name": "ipython",
    "version": 3
   },
   "file_extension": ".py",
   "mimetype": "text/x-python",
   "name": "python",
   "nbconvert_exporter": "python",
   "pygments_lexer": "ipython3",
   "version": "3.8.8"
  }
 },
 "nbformat": 4,
 "nbformat_minor": 5
}
