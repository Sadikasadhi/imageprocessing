{
 "cells": [
  {
   "cell_type": "code",
   "execution_count": 2,
   "id": "8d525e22",
   "metadata": {},
   "outputs": [],
   "source": [
    "import cv2\n",
    "OriginalImg=cv2.imread('b7.jpg')\n",
    "GrayImg=cv2.imread('b7.jpg',0)\n",
    "isSaved=cv2.imwrite('C:\\Sadika\\im.jpg',GrayImg)\n",
    "cv2.imshow('Display original Image',OriginalImg)\n",
    "cv2.imshow('Display Grayscale Image',GrayImg)\n",
    "cv2.waitKey(0)\n",
    "cv2.destroyAllWindows()\n",
    "if isSaved:\n",
    "    print('The image is successfully saved!')"
   ]
  },
  {
   "cell_type": "code",
   "execution_count": null,
   "id": "ba10d05e",
   "metadata": {},
   "outputs": [],
   "source": []
  },
  {
   "cell_type": "code",
   "execution_count": null,
   "id": "861faeb5",
   "metadata": {},
   "outputs": [],
   "source": []
  }
 ],
 "metadata": {
  "kernelspec": {
   "display_name": "Python 3",
   "language": "python",
   "name": "python3"
  },
  "language_info": {
   "codemirror_mode": {
    "name": "ipython",
    "version": 3
   },
   "file_extension": ".py",
   "mimetype": "text/x-python",
   "name": "python",
   "nbconvert_exporter": "python",
   "pygments_lexer": "ipython3",
   "version": "3.8.8"
  }
 },
 "nbformat": 4,
 "nbformat_minor": 5
}
