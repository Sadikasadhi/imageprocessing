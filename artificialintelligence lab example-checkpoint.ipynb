{
 "cells": [
  {
   "cell_type": "code",
   "execution_count": 2,
   "id": "64d00890",
   "metadata": {},
   "outputs": [
    {
     "name": "stdout",
     "output_type": "stream",
     "text": [
      "The square root of 4.000 is 2.000\n"
     ]
    }
   ],
   "source": [
    "# Python Program to calculate the square root\n",
    "\n",
    "\n",
    "num = 4\n",
    "num_sqrt = num ** 0.5\n",
    "print('The square root of %0.3f is %0.3f'%(num ,num_sqrt))"
   ]
  },
  {
   "cell_type": "code",
   "execution_count": 1,
   "id": "a297e00a",
   "metadata": {},
   "outputs": [
    {
     "name": "stdout",
     "output_type": "stream",
     "text": [
      "enter a number: 9\n",
      "square root: 3.0\n"
     ]
    }
   ],
   "source": [
    "number = int(input(\"enter a number: \"))\n",
    "sqrt = number ** 0.5\n",
    "print(\"square root:\", sqrt)"
   ]
  },
  {
   "cell_type": "code",
   "execution_count": 4,
   "id": "48f827e1",
   "metadata": {},
   "outputs": [
    {
     "name": "stdout",
     "output_type": "stream",
     "text": [
      "The solution are (-3+0j) and (-2+0j)\n"
     ]
    }
   ],
   "source": [
    "# Solve the quadratic equation ax**2 + bx + c = 0\n",
    "\n",
    "# import complex math module\n",
    "import cmath\n",
    "\n",
    "a = 1\n",
    "b = 5\n",
    "c = 6\n",
    "\n",
    "# calculate the discriminant\n",
    "d = (b**2) - (4*a*c)\n",
    "\n",
    "# find two solutions\n",
    "sol1 = (-b-cmath.sqrt(d))/(2*a)\n",
    "sol2 = (-b+cmath.sqrt(d))/(2*a)\n",
    "\n",
    "print('The solution are {0} and {1}'.format(sol1,sol2))"
   ]
  },
  {
   "cell_type": "code",
   "execution_count": 3,
   "id": "28908e81",
   "metadata": {},
   "outputs": [
    {
     "name": "stdout",
     "output_type": "stream",
     "text": [
      "The value of x after swapping: 10\n",
      "The value of y after swapping: 5\n"
     ]
    }
   ],
   "source": [
    "# Python program to swap two variables\n",
    "\n",
    "x = 5\n",
    "y = 10\n",
    "\n",
    "# To take inputs from the user\n",
    "#x = input('Enter value of x: ')\n",
    "#y = input('Enter value of y: ')\n",
    "\n",
    "# create a temporary variable and swap the values\n",
    "temp = x\n",
    "x = y\n",
    "y = temp\n",
    "\n",
    "print('The value of x after swapping: {}'.format(x))\n",
    "print('The value of y after swapping: {}'.format(y))"
   ]
  },
  {
   "cell_type": "code",
   "execution_count": 6,
   "id": "88764dc4",
   "metadata": {},
   "outputs": [
    {
     "name": "stdout",
     "output_type": "stream",
     "text": [
      "Enter a number: 372\n",
      "372 is not an Armstrong number\n"
     ]
    }
   ],
   "source": [
    "# Python program to check if the number is an Armstrong number or not\n",
    "\n",
    "# take input from the user\n",
    "num = int(input(\"Enter a number: \"))\n",
    "\n",
    "# initialize sum\n",
    "sum = 0\n",
    "\n",
    "# find the sum of the cube of each digit\n",
    "temp = num\n",
    "while temp > 0:\n",
    "   digit = temp % 10\n",
    "   sum += digit ** 3\n",
    "   temp //= 10\n",
    "\n",
    "# display the result\n",
    "if num == sum:\n",
    "   print(num,\"is an Armstrong number\")\n",
    "else:\n",
    "   print(num,\"is not an Armstrong number\")"
   ]
  },
  {
   "cell_type": "code",
   "execution_count": 7,
   "id": "4250d2e5",
   "metadata": {},
   "outputs": [
    {
     "name": "stdout",
     "output_type": "stream",
     "text": [
      "The H.C.F. is 6\n"
     ]
    }
   ],
   "source": [
    "# Python program to find H.C.F of two numbers\n",
    "\n",
    "# define a function\n",
    "def compute_hcf(x, y):\n",
    "\n",
    "# choose the smaller number\n",
    "    if x > y:\n",
    "        smaller = y\n",
    "    else:\n",
    "        smaller = x\n",
    "    for i in range(1, smaller+1):\n",
    "        if((x % i == 0) and (y % i == 0)):\n",
    "            hcf = i \n",
    "    return hcf\n",
    "\n",
    "num1 = 54 \n",
    "num2 = 24\n",
    "\n",
    "print(\"The H.C.F. is\", compute_hcf(num1, num2))\n"
   ]
  },
  {
   "cell_type": "code",
   "execution_count": 21,
   "id": "119f1a6c",
   "metadata": {},
   "outputs": [
    {
     "name": "stdout",
     "output_type": "stream",
     "text": [
      "The gcd of 6 and 4 is : 4\n"
     ]
    }
   ],
   "source": [
    "import math\n",
    "  \n",
    "# prints 12\n",
    "print(\"The gcd of 6 and 4 is : \", end=\"\")\n",
    "print(math.gcd(8, 4))"
   ]
  },
  {
   "cell_type": "code",
   "execution_count": 20,
   "id": "ed68639d",
   "metadata": {},
   "outputs": [
    {
     "name": "stdout",
     "output_type": "stream",
     "text": [
      "The lcm is : 8\n"
     ]
    }
   ],
   "source": [
    "import math\n",
    "  \n",
    "# prints 12\n",
    "print(\"The lcm is : \", end=\"\")\n",
    "print(math.lcm(8, 4))"
   ]
  },
  {
   "cell_type": "code",
   "execution_count": 23,
   "id": "162281d9",
   "metadata": {},
   "outputs": [
    {
     "name": "stdout",
     "output_type": "stream",
     "text": [
      "[2, 4, 3]\n",
      "[7, 9, 8]\n"
     ]
    }
   ],
   "source": [
    "# Program to transpose a matrix using a nested loop\n",
    "\n",
    "X = [[2,7],\n",
    "    [4 ,9],\n",
    "    [3 ,8]]\n",
    "\n",
    "result = [[0,0,0],\n",
    "         [0,0,0]]\n",
    "\n",
    "# iterate through rows\n",
    "for i in range(len(X)):\n",
    "   # iterate through columns\n",
    "   for j in range(len(X[0])):\n",
    "       result[j][i] = X[i][j]\n",
    "\n",
    "for r in result:\n",
    "   print(r)"
   ]
  },
  {
   "cell_type": "code",
   "execution_count": 26,
   "id": "a67eca53",
   "metadata": {},
   "outputs": [
    {
     "name": "stdout",
     "output_type": "stream",
     "text": [
      "[17, 15, 4]\n",
      "[11, 16, 5]\n",
      "[10, 13, 18]\n"
     ]
    }
   ],
   "source": [
    "# Program to add two matrices using nested loop\n",
    "\n",
    "X = [[12,7,3],\n",
    "    [5,9,2],\n",
    "    [6 ,8,9]]\n",
    "\n",
    "Y = [[5,8,1],\n",
    "    [6,7,3],\n",
    "    [4,5,9]]\n",
    "\n",
    "result = [[0,0,0],\n",
    "         [0,0,0],\n",
    "         [0,0,0]]\n",
    "\n",
    "# iterate through rows\n",
    "for i in range(len(X)):\n",
    "   # iterate through columns\n",
    "   for j in range(len(X[0])):\n",
    "       result[i][j] = X[i][j] + Y[i][j]\n",
    "\n",
    "for r in result:\n",
    "   print(r)\n"
   ]
  },
  {
   "cell_type": "code",
   "execution_count": 28,
   "id": "cff73c98",
   "metadata": {},
   "outputs": [
    {
     "name": "stdout",
     "output_type": "stream",
     "text": [
      "{3: 4, 2: 6, 5: 9}\n"
     ]
    }
   ],
   "source": [
    "dict1 = {5: 9, 2: 6, 3: 4}\n",
    "sorted_values = sorted(dict1.values()) # Sort the values\n",
    "sorted_dict = {}\n",
    "\n",
    "for i in sorted_values:\n",
    "    for k in dict1.keys():\n",
    "        if dict1[k] == i:\n",
    "            sorted_dict[k] = dict1[k]\n",
    "\n",
    "print(sorted_dict)"
   ]
  },
  {
   "cell_type": "code",
   "execution_count": 31,
   "id": "faf21511",
   "metadata": {},
   "outputs": [
    {
     "name": "stdout",
     "output_type": "stream",
     "text": [
      "2018-12-06 10:07:00\n"
     ]
    }
   ],
   "source": [
    "import datetime\n",
    " \n",
    "# Function to convert string to datetime\n",
    "def convert(date_time):\n",
    "    format = '%b %d %Y %I:%M%p'  # The format\n",
    "    datetime_str = datetime.datetime.strptime(date_time, format)\n",
    " \n",
    "    return datetime_str\n",
    " \n",
    " \n",
    "# Driver code\n",
    "date_time = 'Dec 6 2018 10:07AM'\n",
    "print(convert(date_time))\n"
   ]
  },
  {
   "cell_type": "code",
   "execution_count": 37,
   "id": "29679af0",
   "metadata": {},
   "outputs": [
    {
     "name": "stdout",
     "output_type": "stream",
     "text": [
      "Reversed Number: 8643\n"
     ]
    }
   ],
   "source": [
    "num = 3468\n",
    "reversed_num = 0\n",
    "\n",
    "while num != 0:\n",
    "    digit = num % 10\n",
    "    reversed_num = reversed_num * 10 + digit\n",
    "    num //= 10\n",
    "\n",
    "print(\"Reversed Number: \" + str(reversed_num))\n"
   ]
  },
  {
   "cell_type": "code",
   "execution_count": 33,
   "id": "5be99ecb",
   "metadata": {},
   "outputs": [
    {
     "name": "stdout",
     "output_type": "stream",
     "text": [
      "Answer = 81\n"
     ]
    }
   ],
   "source": [
    "base = 3\n",
    "exponent = 4\n",
    "\n",
    "result = 1\n",
    "\n",
    "while exponent != 0:\n",
    "    result *= base\n",
    "    exponent-=1\n",
    "\n",
    "print(\"Answer = \" + str(result))"
   ]
  },
  {
   "cell_type": "code",
   "execution_count": 38,
   "id": "ee4657dd",
   "metadata": {},
   "outputs": [
    {
     "name": "stdout",
     "output_type": "stream",
     "text": [
      "stop1\n"
     ]
    }
   ],
   "source": [
    "import time\n",
    "\n",
    "def countdown(time_sec):\n",
    "    while time_sec:\n",
    "        mins, secs = divmod(time_sec, 60)\n",
    "        timeformat = '{:02d}:{:02d}'.format(mins, secs)\n",
    "        print(timeformat, end='\\r')\n",
    "        time.sleep(1)\n",
    "        time_sec -= 1\n",
    "\n",
    "    print(\"stop\")\n",
    "\n",
    "countdown(10)"
   ]
  },
  {
   "cell_type": "code",
   "execution_count": null,
   "id": "9ef132de",
   "metadata": {},
   "outputs": [],
   "source": []
  },
  {
   "cell_type": "code",
   "execution_count": null,
   "id": "65560e57",
   "metadata": {},
   "outputs": [],
   "source": []
  }
 ],
 "metadata": {
  "kernelspec": {
   "display_name": "Python 3 (ipykernel)",
   "language": "python",
   "name": "python3"
  },
  "language_info": {
   "codemirror_mode": {
    "name": "ipython",
    "version": 3
   },
   "file_extension": ".py",
   "mimetype": "text/x-python",
   "name": "python",
   "nbconvert_exporter": "python",
   "pygments_lexer": "ipython3",
   "version": "3.9.7"
  }
 },
 "nbformat": 4,
 "nbformat_minor": 5
}
